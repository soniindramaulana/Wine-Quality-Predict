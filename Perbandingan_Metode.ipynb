{
  "cells": [
    {
      "cell_type": "markdown",
      "metadata": {
        "id": "cEAO_A7fmWKm"
      },
      "source": [
        "**------------------- TUGAS PROYEK SAINS DATA --------------------**\n",
        "---\n",
        "\n"
      ]
    },
    {
      "cell_type": "markdown",
      "metadata": {},
      "source": [
        "- Nama  : Soni Indra Maulana\n",
        "- NIM   : 210411100136\n",
        "- Kelas : B"
      ]
    },
    {
      "cell_type": "markdown",
      "metadata": {
        "id": "iIG-MGc8oFju"
      },
      "source": [
        "### TUJUAN PROYEK\n",
        "---\n",
        "#### Melakukan klasifikasi dan prediksi kualitas pada data red wine yang diproduksi oleh perusahaan vinho verde dengan menggunakan model klasifikasi dengan akurasi terbaik"
      ]
    },
    {
      "cell_type": "code",
      "execution_count": 65,
      "metadata": {
        "id": "Urf7CwoIQ_07"
      },
      "outputs": [],
      "source": [
        "import numpy as np\n",
        "import scipy.stats\n",
        "import seaborn as sns\n",
        "import pandas as pd\n",
        "from sklearn.preprocessing import MinMaxScaler\n",
        "from sklearn.preprocessing import StandardScaler\n",
        "from sklearn.model_selection import GridSearchCV\n",
        "import joblib\n",
        "from sklearn.model_selection import train_test_split\n",
        "import pickle"
      ]
    },
    {
      "cell_type": "code",
      "execution_count": 66,
      "metadata": {
        "id": "ZluxQJhORMGG"
      },
      "outputs": [],
      "source": [
        "from sklearn.metrics import accuracy_score, precision_recall_fscore_support, precision_score, recall_score, f1_score\n",
        "from sklearn.metrics import confusion_matrix, classification_report\n",
        "from sklearn.model_selection import cross_validate\n",
        "from sklearn.ensemble import RandomForestClassifier\n",
        "from sklearn.linear_model import LogisticRegression\n",
        "from sklearn.svm import SVC\n",
        "from numpy.core.arrayprint import printoptions\n",
        "from sklearn.tree import DecisionTreeClassifier\n",
        "from sklearn.metrics import accuracy_score, classification_report, confusion_matrix\n",
        "from sklearn.feature_selection import SelectKBest\n",
        "from sklearn.feature_selection import mutual_info_classif\n",
        "import matplotlib.pyplot as plt"
      ]
    },
    {
      "cell_type": "code",
      "execution_count": 115,
      "metadata": {
        "id": "F558k1WtRjVj"
      },
      "outputs": [],
      "source": [
        "data = pd.read_csv('winequality-red.csv')"
      ]
    },
    {
      "cell_type": "markdown",
      "metadata": {
        "id": "RueZgRZrDIFU"
      },
      "source": [
        "# DATA UNDERSTANDING\n",
        "---"
      ]
    },
    {
      "cell_type": "markdown",
      "metadata": {
        "id": "3ku7IdE0qCoz"
      },
      "source": [
        "###Teknik Pengumpulan Data\n",
        "Studi ini akan membahas vinho verde, produk unik dari wilayah Minho (barat laut) Portugal.\n",
        "Data dikumpulkan dari Mei 2004 hingga Februari 2007 hanya dengan menggunakan proteksi\n",
        "penunjukan sampel asal yang diuji di badan sertifikasi resmi (CVRVV).CVRVV adalah organisasi antar-profesional dengan\n",
        "tujuan meningkatkan kualitas dan pemasaran vinho verde. Datanya adalah\n",
        "dicatat oleh sistem komputerisasi (iLab), yang secara otomatis mengelola\n",
        "proses pengujian sampel anggur mulai dari permintaan produsen hingga analisis laboratorium dan sensorik\n",
        "Setiap entri menunjukkan tes tertentu (analitis atau sensorik) dan\n",
        "database akhir diekspor ke dalam satu lembar (.csv)\n",
        "\n",
        "Tentang preferensi, setiap sampel dievaluasi oleh minimal tiga penilai sensorik (menggunakan pengecap buta),\n",
        "yang menilai anggur dalam skala yang berkisar dari 0 (sangat buruk) hingga 10 (sangat baik)."
      ]
    },
    {
      "cell_type": "code",
      "execution_count": 68,
      "metadata": {
        "colab": {
          "base_uri": "https://localhost:8080/"
        },
        "id": "QfWpcTIcoMQn",
        "outputId": "e25d9a06-dc83-494b-c579-65dd5f4fab40"
      },
      "outputs": [
        {
          "name": "stdout",
          "output_type": "stream",
          "text": [
            "<class 'pandas.core.frame.DataFrame'>\n",
            "RangeIndex: 1599 entries, 0 to 1598\n",
            "Data columns (total 12 columns):\n",
            " #   Column                Non-Null Count  Dtype  \n",
            "---  ------                --------------  -----  \n",
            " 0   fixed acidity         1599 non-null   float64\n",
            " 1   volatile acidity      1599 non-null   float64\n",
            " 2   citric acid           1599 non-null   float64\n",
            " 3   residual sugar        1599 non-null   float64\n",
            " 4   chlorides             1599 non-null   float64\n",
            " 5   free sulfur dioxide   1599 non-null   float64\n",
            " 6   total sulfur dioxide  1599 non-null   float64\n",
            " 7   density               1599 non-null   float64\n",
            " 8   pH                    1599 non-null   float64\n",
            " 9   sulphates             1599 non-null   float64\n",
            " 10  alcohol               1599 non-null   float64\n",
            " 11  quality               1599 non-null   int64  \n",
            "dtypes: float64(11), int64(1)\n",
            "memory usage: 150.0 KB\n"
          ]
        }
      ],
      "source": [
        "data.info()"
      ]
    },
    {
      "cell_type": "code",
      "execution_count": 69,
      "metadata": {
        "colab": {
          "base_uri": "https://localhost:8080/"
        },
        "id": "cBy8KWahFkbl",
        "outputId": "49923bab-cd7e-492d-bd6e-65121aa9c51a"
      },
      "outputs": [
        {
          "data": {
            "text/plain": [
              "Index(['fixed acidity', 'volatile acidity', 'citric acid', 'residual sugar',\n",
              "       'chlorides', 'free sulfur dioxide', 'total sulfur dioxide', 'density',\n",
              "       'pH', 'sulphates', 'alcohol', 'quality'],\n",
              "      dtype='object')"
            ]
          },
          "execution_count": 69,
          "metadata": {},
          "output_type": "execute_result"
        }
      ],
      "source": [
        "data.columns"
      ]
    },
    {
      "cell_type": "markdown",
      "metadata": {
        "id": "Wpt77-gYqw-O"
      },
      "source": [
        "## TIPS DATA UNDERSTANDING"
      ]
    },
    {
      "cell_type": "markdown",
      "metadata": {
        "id": "a3KCkY15o4Zf"
      },
      "source": [
        "1.   Memahami dengan mendeskripsikan setiap fitur didalam dataset seperti:\n",
        "- Deskripsi setiap fitur dalam dataset\n",
        "- Tipe Data di setiap fitur dalam dataset\n",
        "\n",
        "2.   Melakukan indetifikasi keberadaan Missing Values pada setiap fitur dalam dataset\n",
        "3.   Eksplorasi Data (Visualisasi Data)\n",
        "4.   Mengidentifikasi Outlier yang terdapat dalam dataset\n",
        "5.   Mengidentifikasi jumlah proporsi data setiap kelas dalam data agar jika terdapat inbalancing pada data dapat diketahui\n",
        "\n"
      ]
    },
    {
      "cell_type": "markdown",
      "metadata": {
        "id": "JYoPCe6kfToX"
      },
      "source": [
        "## DESKRIPSI FITUR\n",
        "---"
      ]
    },
    {
      "cell_type": "markdown",
      "metadata": {
        "id": "UPeDcQRxg8Rn"
      },
      "source": [
        "\n",
        "- **Fixed acidity (Kadar asam tartarat pada anggur) (g/dm3)** :\n",
        "\n",
        "  Asam tetap yang dominan ditemukan dalam anggur adalah tartarat, malat, sitrat, dan\n",
        "  suksinat.Tingkat masing-masing yang ditemukan dalam anggur bisa sangat bervariasi tetapi dalam\n",
        "  secara umum orang akan mengharapkan untuk melihat 1.000 hingga 4.000 mg/L asam tartarat, 0 hingga 8.000 mg/L asam malat, 0 hingga 500 mg/L asam sitrat, dan 500 hingga 2.000 mg/L\n",
        "  asam suksinat.\n",
        "- **Volatile acidity (Kadar asam asetat pada anggur)(g/dm3)** :\n",
        "\n",
        "  Keasaman yang mudah menguap adalah ukuran berat molekul rendah (atau uap\n",
        "  dapat disuling) asam lemak dalam anggur dan umumnya dianggap sebagai bau\n",
        "  cuka. Rata-rata\n",
        "  nilai keasaman yang mudah menguap untuk anggur meja merah selama periode ini adalah sekitar 0,60\n",
        "  gram/L.\n",
        "- **Citric acid (Kadar asam sitrat dalam anggur)(g/dm3)** :\n",
        "\n",
        "  Asam sitrat memiliki banyak kegunaan dalam produksi anggur. Asam sitrat adalah bahan organik lemah\n",
        "  asam, yang sering digunakan sebagai pengawet alami atau bahan tambahan pada makanan atau\n",
        "  minuman untuk menambah rasa asam pada makanan.\n",
        "- **Residual Sugar(Kadar sisa gula pada wine)(g/dm3)**:\n",
        "\n",
        "  Gula Residu berasal dari gula anggur alami yang tersisa dalam anggur setelahnya\n",
        "  fermentasi alkohol selesai. Itu diukur dalam gram per liter. Sisa\n",
        "  kadar gula bervariasi pada berbagai jenis anggur. Faktanya, banyak toko kelontong\n",
        "  anggur berlabel \"kering\" mengandung sekitar 10 g/L sisa gula.\n",
        "- **Chlorides (Kadar natrium klorida dalam anggur)(g/dm3)** :\n",
        "\n",
        "  Klorida (natrium klorida) memberi rasa asin pada anggur yang bisa berubah\n",
        "  menjauhkan konsumen potensial. Natrium klorida, umumnya dikenal sebagai garam, adalah\n",
        "  senyawa ionik dengan rumus kimia NaCl. Maksimal\n",
        "  konsentrasi klorida dalam anggur sekitar 0,20 - 0,60 g/L (Vallone et al.,\n",
        "  2021).\n",
        "- **Free sulfur dioxide (Tingkat sulfur dioksida bebas dalam anggur)(mg/dm3)**:\n",
        "\n",
        "  Sulfur dioksida (SO2) dan garamnya telah ditambahkan selama pembuatan anggur\n",
        "  sejak abad ke-17. Ini masih berpotensi\n",
        "  menyebabkan reaksi merugikan dan produk beracun bagi konsumen anggur dan\n",
        "  pembuat anggur dalam jumlah lebih dari 10 mg/L, dan karenanya, seharusnya\n",
        "  ditangani dengan hati-hati.\n",
        "- **Total sulfur dioxide (SO2 Total = SO2 bebas + SO2 bereaksi) (mg/dm3)** :\n",
        "\n",
        "  Bagian dari sulfur dioksida bebas ditambah\n",
        "  bagian yang terikat dengan bahan kimia lain di dalamnya\n",
        "  anggur seperti aldehida, pigmen, atau\n",
        "  gula\n",
        "  konsentrasi nilai SO2 bebas 25 mg/L aktif\n",
        "  anggur merah. SO2 yang aktif\n",
        "  konsentrasi 0,35 mg/L memastikan perlindungan minimum, dan nilai\n",
        "  Perlindungan maksimal 0,6 mg/L\n",
        "- **Density(Kepadatan anggur) (g/cm3)** :\n",
        "\n",
        "  Massa jenis adalah massa per satuan volume anggur atau harus pada 20◦C. Dia\n",
        "  dinyatakan dalam gram per mililiter, dan dilambangkan dengan simbol 20◦C.\n",
        "- **pH(tingkat keasaman anggur)(Range: 0 - 14)** :\n",
        "  \n",
        "  pH adalah skala yang digunakan untuk menentukan keasaman atau kebasaan suatu larutan berair\n",
        "  (pH yang lebih rendah menunjukkan keasaman yang lebih tinggi). Tingkat pH anggur berkisar antara 3 hingga\n",
        "  4.\n",
        "- **Sulphates(Kadar kalium sulfat dalam anggur)(g/dm3)** :\n",
        "  \n",
        "  Sulfit, juga biasa disebut sulfur dioksida, adalah senyawa kimia yang\n",
        "  mengandung ion sulfit. Mereka ditemukan secara alami dalam berbagai makanan\n",
        "  sumbernya, termasuk teh hitam, kacang tanah, telur, dan makanan fermentasi. Meskipun mereka ditemukan di banyak makanan dan minuman,\n",
        "  hal ini terutama terkait dengan daftar panjang efek samping yang berkaitan dengan anggur\n",
        "  konsumsi, termasuk sakit kepala akibat anggur yang ditakuti (Roullier-Gall\n",
        "  dkk., 2017).\n",
        "- **Alcohol(Konsentrasi alkohol dalam anggur)(% vol. )** :\n",
        "\n",
        "  Alkohol adalah senyawa organik yang membawa setidaknya satu hidroksil\n",
        "  gugus fungsi (−OH) terikat pada atom karbon jenuh. Anggur bisa dimiliki\n",
        "  berkisar antara 5% dan 23% Alkohol berdasarkan Volume (ABV).\n",
        "  Output variable (based on sensory data)\n",
        "- **quality (score between 0 and 10)** :\n",
        "  \n",
        "  Kisaran: Dibawah 7 bernilai 0 (Buruk). Sedangkan jika lebih dari angka 7 bernilai 1 (Bagus)"
      ]
    },
    {
      "cell_type": "markdown",
      "metadata": {
        "id": "pyoWW74-Fmx4"
      },
      "source": [
        "TIPE DATA\n",
        "---"
      ]
    },
    {
      "cell_type": "markdown",
      "metadata": {
        "id": "n9spnwUAscbF"
      },
      "source": [
        "#### Terdapat beberapa Tipe Data yang terdapat didalam dataset, diantaranya\n",
        "- Tipe Data Rasio\n",
        "\n",
        "> - fixed acidity\n",
        "> - volatile acidity\n",
        "> - citric acid\n",
        "> - residual sugar\n",
        "> - chlorides\n",
        "> - free sulfur dioxide\n",
        "> - total sulfur dioxide\n",
        "> - density\n",
        "> - pH\n",
        "> - sulphates\n",
        "> - alcohol\n",
        "\n",
        "\n",
        "- Tipe Data Ordional\n",
        "> - quality"
      ]
    },
    {
      "cell_type": "markdown",
      "metadata": {
        "id": "coCKT1VUhDQ2"
      },
      "source": [
        "Banyak data dalam masing-masing kelasnya"
      ]
    },
    {
      "cell_type": "code",
      "execution_count": 70,
      "metadata": {
        "colab": {
          "base_uri": "https://localhost:8080/"
        },
        "id": "XP4DagtLlRFr",
        "outputId": "6cb0bcfa-ffb3-454b-9358-2e47e6848e70"
      },
      "outputs": [
        {
          "data": {
            "text/plain": [
              "array([5, 6, 7, 4, 8, 3], dtype=int64)"
            ]
          },
          "execution_count": 70,
          "metadata": {},
          "output_type": "execute_result"
        }
      ],
      "source": [
        "data['quality'].unique()"
      ]
    },
    {
      "cell_type": "code",
      "execution_count": 71,
      "metadata": {
        "colab": {
          "base_uri": "https://localhost:8080/"
        },
        "id": "XhwYKlJyq7md",
        "outputId": "7859833c-dcbf-41ed-ff62-6ac87a7d652c"
      },
      "outputs": [
        {
          "data": {
            "text/plain": [
              "quality\n",
              "5    681\n",
              "6    638\n",
              "7    199\n",
              "4     53\n",
              "8     18\n",
              "3     10\n",
              "Name: count, dtype: int64"
            ]
          },
          "execution_count": 71,
          "metadata": {},
          "output_type": "execute_result"
        }
      ],
      "source": [
        "data.quality.value_counts()"
      ]
    },
    {
      "cell_type": "markdown",
      "metadata": {
        "id": "YSWo0NbfFy-y"
      },
      "source": [
        "## IDENTIFIKASI MISSING VALUE"
      ]
    },
    {
      "cell_type": "code",
      "execution_count": 72,
      "metadata": {
        "colab": {
          "base_uri": "https://localhost:8080/"
        },
        "id": "Q2yXipIZliJK",
        "outputId": "7336c037-88ec-48e7-e662-05ff2634c4b1"
      },
      "outputs": [
        {
          "data": {
            "text/plain": [
              "fixed acidity           0\n",
              "volatile acidity        0\n",
              "citric acid             0\n",
              "residual sugar          0\n",
              "chlorides               0\n",
              "free sulfur dioxide     0\n",
              "total sulfur dioxide    0\n",
              "density                 0\n",
              "pH                      0\n",
              "sulphates               0\n",
              "alcohol                 0\n",
              "quality                 0\n",
              "dtype: int64"
            ]
          },
          "execution_count": 72,
          "metadata": {},
          "output_type": "execute_result"
        }
      ],
      "source": [
        "data.isnull().sum()"
      ]
    },
    {
      "cell_type": "markdown",
      "metadata": {
        "id": "U6sGwnlnGWtr"
      },
      "source": [
        "## VISUALISASI DATA"
      ]
    },
    {
      "cell_type": "code",
      "execution_count": 73,
      "metadata": {
        "colab": {
          "base_uri": "https://localhost:8080/",
          "height": 956
        },
        "id": "oaUurMlnGapt",
        "outputId": "83764169-74c1-4d6a-bed4-00089e4ee44a"
      },
      "outputs": [
        {
          "data": {
            "image/png": "[encoded data removed]",
            "text/plain": [
              "<Figure size 1400x1400 with 12 Axes>"
            ]
          },
          "metadata": {},
          "output_type": "display_data"
        }
      ],
      "source": [
        "#distribution data\n",
        "data.hist(figsize=(14, 14))\n",
        "plt.show()"
      ]
    },
    {
      "cell_type": "markdown",
      "metadata": {
        "id": "_VBJ2fKFGJI7"
      },
      "source": [
        "## IDENTIFIKASI OUTLIER"
      ]
    },
    {
      "cell_type": "code",
      "execution_count": 116,
      "metadata": {
        "colab": {
          "base_uri": "https://localhost:8080/"
        },
        "id": "noe9EwBUucGd",
        "outputId": "d1bf0431-f096-4571-84b3-feaa72022c6e"
      },
      "outputs": [
        {
          "name": "stdout",
          "output_type": "stream",
          "text": [
            "Outliers: 192\n"
          ]
        }
      ],
      "source": [
        "from scipy import stats\n",
        "def detect_outliers_zscore(data, threshold=3):\n",
        "    z_scores = np.abs(stats.zscore(data))\n",
        "    outliers = np.where(z_scores > threshold)\n",
        "    return outliers[0]\n",
        "\n",
        "outliers = detect_outliers_zscore(data)\n",
        "print(\"Outliers:\", len(outliers))"
      ]
    },
    {
      "cell_type": "markdown",
      "metadata": {
        "id": "b90URWTdwxYK"
      },
      "source": [
        "## TIPS MENETUKAN KUALITAS WINE (BURUK/BAIK)"
      ]
    },
    {
      "cell_type": "markdown",
      "metadata": {
        "id": "-n4dALTkHRJJ"
      },
      "source": [
        "##### Terdapat Tips untuk menangani masalah regresi maka dapat menetapkan batas kualitas anggur dimana, jika:\n",
        "\n",
        "##### -Kualitas Anggur lebih besar sama dengan 7 maka dinyatakan \"good\" atau bernilai 1\n",
        "##### -Kualitas Anggur di bawah angka 7 maka dinyatakan \"not good\" atau bernilai 0\n",
        "\n",
        "##### Link Refrensi :  [disini](https://www.kaggle.com/datasets/uciml/red-wine-quality-cortez-et-al-2009)"
      ]
    },
    {
      "cell_type": "code",
      "execution_count": 75,
      "metadata": {
        "id": "_o-Fzl46fIUo"
      },
      "outputs": [],
      "source": [
        "fitur = data.drop('quality', axis= 1)\n",
        "target = data['quality'].apply(lambda y_value: 1 if y_value >= 7 else 0)"
      ]
    },
    {
      "cell_type": "markdown",
      "metadata": {
        "id": "Ghdznt0qxJ4R"
      },
      "source": [
        "## IDENTIFIKASI PROPORSI JUMLAH KELAS PADA DATA"
      ]
    },
    {
      "cell_type": "code",
      "execution_count": 76,
      "metadata": {
        "colab": {
          "base_uri": "https://localhost:8080/"
        },
        "id": "XyYLpMWNGZS1",
        "outputId": "51dcabc9-ee6e-4f45-c561-3fa9eb8c4dd4"
      },
      "outputs": [
        {
          "data": {
            "text/plain": [
              "quality\n",
              "0    1382\n",
              "1     217\n",
              "Name: count, dtype: int64"
            ]
          },
          "execution_count": 76,
          "metadata": {},
          "output_type": "execute_result"
        }
      ],
      "source": [
        "target.value_counts()"
      ]
    },
    {
      "cell_type": "markdown",
      "metadata": {
        "id": "YXsn9x-lkxFD"
      },
      "source": [
        "## PREPROCESSING DATA\n",
        "---\n",
        "#### Dari Data Understanding diatas dapat disimpulkan bahwasannya:\n",
        "- Didalam data tidak memiliki Missing Values\n",
        "- Didalam data juga terdapat outlier yang terdeteksi\n",
        "- Terjadi Inbalancing pada data\n",
        "\n",
        "### Maka dari itu perlu dilakukan beberapa langkah preprocessing pada data seperti:\n",
        "- Penanganan pada Outlier\n",
        "- Balancing Data agar jumlah kelas pada data menjadi seimbang"
      ]
    },
    {
      "cell_type": "markdown",
      "metadata": {
        "id": "D_SNOxc3qJLl"
      },
      "source": [
        "### Penanganan Pada Outlier Data"
      ]
    },
    {
      "cell_type": "code",
      "execution_count": 117,
      "metadata": {
        "colab": {
          "base_uri": "https://localhost:8080/"
        },
        "id": "FJZ1mR41sLiP",
        "outputId": "b0dd65ca-87a2-4e4f-d251-5c76fcd544ed"
      },
      "outputs": [
        {
          "name": "stdout",
          "output_type": "stream",
          "text": [
            "Data tanpa outlier: 1451\n"
          ]
        }
      ],
      "source": [
        "def remove_outliers_zscore(data, threshold=3):\n",
        "    z_scores = np.abs(stats.zscore(data,axis=0))\n",
        "    outliers = np.where(z_scores > threshold)\n",
        "\n",
        "    # Menghapus outlier dari data\n",
        "    data = data[~np.any(z_scores > threshold, axis=1)]\n",
        "\n",
        "    return data\n",
        "data = remove_outliers_zscore(data)\n",
        "print(\"Data tanpa outlier:\", len(data))"
      ]
    },
    {
      "cell_type": "code",
      "execution_count": 118,
      "metadata": {
        "colab": {
          "base_uri": "https://localhost:8080/"
        },
        "id": "OfUaxaG6qiL7",
        "outputId": "5801cc68-e6af-4af2-b593-801c8d134a78"
      },
      "outputs": [
        {
          "data": {
            "text/plain": [
              "quality\n",
              "0    1250\n",
              "1     201\n",
              "Name: count, dtype: int64"
            ]
          },
          "execution_count": 118,
          "metadata": {},
          "output_type": "execute_result"
        }
      ],
      "source": [
        "fitur = data.drop('quality', axis= 1)\n",
        "target = data['quality'].apply(lambda y_value: 1 if y_value >= 7 else 0)\n",
        "\n",
        "target.value_counts()"
      ]
    },
    {
      "cell_type": "markdown",
      "metadata": {
        "id": "e2ds82uREdZe"
      },
      "source": [
        "### Balancing Data"
      ]
    },
    {
      "cell_type": "code",
      "execution_count": 119,
      "metadata": {
        "colab": {
          "base_uri": "https://localhost:8080/"
        },
        "id": "ikeh5ZuqrX9t",
        "outputId": "3e0b6fba-d6dd-45d1-c1c0-e930d58455cc"
      },
      "outputs": [
        {
          "name": "stdout",
          "output_type": "stream",
          "text": [
            "Resampled class distribution: Counter({0: 1250, 1: 1250})\n"
          ]
        }
      ],
      "source": [
        "# import library\n",
        "from imblearn.over_sampling import RandomOverSampler\n",
        "from collections import Counter\n",
        "\n",
        "# Initialize RandomOverSampler\n",
        "balancer = RandomOverSampler(random_state=42)\n",
        "\n",
        "# Apply Random Over-Sampling to balance the classes\n",
        "fitur_balance, target_balance = balancer.fit_resample(fitur, target)\n",
        "\n",
        "# Print resampled class distribution\n",
        "print('Resampled class distribution:', Counter(target_balance))"
      ]
    },
    {
      "cell_type": "code",
      "execution_count": 120,
      "metadata": {},
      "outputs": [],
      "source": [
        "# Membuat DataFrame dari fitur dan target yang telah seimbang\n",
        "data_clean = pd.concat([fitur_balance, target_balance], axis=1)\n",
        "\n",
        "# Menyimpan DataFrame ke dalam file CSV\n",
        "data_clean.to_csv('data_clean.csv', index=False)"
      ]
    },
    {
      "cell_type": "code",
      "execution_count": 81,
      "metadata": {
        "colab": {
          "base_uri": "https://localhost:8080/",
          "height": 484
        },
        "id": "J479JianHxT3",
        "outputId": "5e838a7f-76f0-4b51-ad8c-3ab9b7324d8c"
      },
      "outputs": [
        {
          "data": {
            "image/png": "[encoded data removed]",
            "text/plain": [
              "<Figure size 1000x500 with 2 Axes>"
            ]
          },
          "metadata": {},
          "output_type": "display_data"
        }
      ],
      "source": [
        "# Plot original class distribution\n",
        "plt.figure(figsize=(10, 5))\n",
        "plt.subplot(1, 2, 1)\n",
        "sns.countplot(data=pd.DataFrame({'quality': target}), x='quality')\n",
        "plt.title('Original Class')\n",
        "\n",
        "# Plot resampled class distribution after Random Over-Sampling\n",
        "plt.subplot(1, 2, 2)\n",
        "sns.countplot(data=pd.DataFrame({'quality': target_balance}), x='quality')\n",
        "plt.title('Random Over-Sampling With imblearn')\n",
        "\n",
        "plt.tight_layout()\n",
        "plt.show()"
      ]
    },
    {
      "cell_type": "markdown",
      "metadata": {
        "id": "4StL8BhCFIHq"
      },
      "source": [
        "## Mencari K atau Fitur yang berpengaruh pada dataset"
      ]
    },
    {
      "cell_type": "code",
      "execution_count": 82,
      "metadata": {
        "id": "PgeFy26A8fHi"
      },
      "outputs": [],
      "source": [
        "selector = SelectKBest(score_func=mutual_info_classif, k='all')  # Untuk masalah klasifikasi\n",
        "X_new = selector.fit_transform(fitur_balance,target_balance)\n",
        "scores = selector.scores_"
      ]
    },
    {
      "cell_type": "code",
      "execution_count": 83,
      "metadata": {
        "id": "Y7-ZlaEP8kh7"
      },
      "outputs": [],
      "source": [
        "feature_scores = list(zip(fitur_balance.columns, scores))\n",
        "feature_scores.sort(key=lambda x: -x[1])  # Urutkan berdasarkan skor Information Gain (dalam urutan menurun)"
      ]
    },
    {
      "cell_type": "code",
      "execution_count": 84,
      "metadata": {
        "colab": {
          "base_uri": "https://localhost:8080/",
          "height": 636
        },
        "id": "znR6R9PM8w72",
        "outputId": "f5f1f43e-fb00-458d-d8ab-469e1e2f04e0"
      },
      "outputs": [
        {
          "data": {
            "image/png": "[encoded data removed]",
            "text/plain": [
              "<Figure size 1200x600 with 1 Axes>"
            ]
          },
          "metadata": {},
          "output_type": "display_data"
        }
      ],
      "source": [
        "import matplotlib.pyplot as plt\n",
        "feature_names, scores = zip(*feature_scores)\n",
        "plt.figure(figsize=(12, 6))\n",
        "plt.bar(range(len(feature_names)), scores)\n",
        "plt.xticks(range(len(feature_names)), feature_names,rotation=90)\n",
        "plt.ylabel('Fitur')\n",
        "plt.xlabel('Information Gain')\n",
        "plt.title('Peringkat Fitur dengan Information Gain')\n",
        "plt.show()"
      ]
    },
    {
      "cell_type": "markdown",
      "metadata": {
        "id": "QOPoKmsPFUjr"
      },
      "source": [
        "## Membagi Data"
      ]
    },
    {
      "cell_type": "code",
      "execution_count": 85,
      "metadata": {
        "id": "2BftcoCqrib9"
      },
      "outputs": [],
      "source": [
        "fitur_train, fitur_test, target_train, target_test = train_test_split(fitur_balance, target_balance, test_size=0.25, random_state=42)"
      ]
    },
    {
      "cell_type": "markdown",
      "metadata": {
        "id": "0sAzBbv0XysI"
      },
      "source": [
        "## Normalisasi Data"
      ]
    },
    {
      "cell_type": "markdown",
      "metadata": {},
      "source": [
        "#### NORMALISASI ZSCORE"
      ]
    },
    {
      "cell_type": "code",
      "execution_count": 86,
      "metadata": {
        "colab": {
          "base_uri": "https://localhost:8080/"
        },
        "id": "PAT0y4pwRyvJ",
        "outputId": "bcacda2b-09cd-4f93-86ab-649ff1b2971f"
      },
      "outputs": [
        {
          "data": {
            "text/plain": [
              "['zscore.pkl']"
            ]
          },
          "execution_count": 86,
          "metadata": {},
          "output_type": "execute_result"
        }
      ],
      "source": [
        "sc = StandardScaler()\n",
        "zscore_training = sc.fit_transform(fitur_train)\n",
        "zscore_testing = sc.transform(fitur_test)\n",
        "joblib.dump(sc, 'zscore.pkl')\n"
      ]
    },
    {
      "cell_type": "markdown",
      "metadata": {},
      "source": [
        "#### NORMALISASI MINMAX"
      ]
    },
    {
      "cell_type": "code",
      "execution_count": 87,
      "metadata": {
        "colab": {
          "base_uri": "https://localhost:8080/"
        },
        "id": "eHHRDktkR6QN",
        "outputId": "3c8fefef-cd96-4f30-86dd-783889e8eeef"
      },
      "outputs": [
        {
          "data": {
            "text/plain": [
              "['minmax.pkl']"
            ]
          },
          "execution_count": 87,
          "metadata": {},
          "output_type": "execute_result"
        }
      ],
      "source": [
        "mm = MinMaxScaler()\n",
        "minmax_training = mm.fit_transform(fitur_train)\n",
        "minmax_testing = mm.transform(fitur_test)\n",
        "joblib.dump(mm, 'minmax.pkl')\n"
      ]
    },
    {
      "cell_type": "code",
      "execution_count": 88,
      "metadata": {
        "id": "ID44HZsLoxPB"
      },
      "outputs": [],
      "source": [
        "selector = SelectKBest(score_func=mutual_info_classif, k='all')\n",
        "selected_ft_zscore_training = selector.fit_transform(zscore_training, target_train)\n",
        "selected_ft_zscore_testing = selector.transform(zscore_testing)\n",
        "selected_ft_minmax_training = selector.fit_transform(minmax_training, target_train)\n",
        "selected_ft_minmax_testing = selector.transform(minmax_testing)"
      ]
    },
    {
      "cell_type": "code",
      "execution_count": 89,
      "metadata": {
        "colab": {
          "base_uri": "https://localhost:8080/",
          "height": 636
        },
        "id": "Zue44UHZo1A4",
        "outputId": "d7a93b31-f720-4341-f965-a73d4f88f817"
      },
      "outputs": [
        {
          "data": {
            "image/png": "[encoded data removed]",
            "text/plain": [
              "<Figure size 1200x600 with 1 Axes>"
            ]
          },
          "metadata": {},
          "output_type": "display_data"
        }
      ],
      "source": [
        "import matplotlib.pyplot as plt\n",
        "\n",
        "feature_scores = selector.scores_\n",
        "feature_names = ['fixed acidity', 'volatile acidity', 'citric acid', 'residual sugar',\n",
        "       'chlorides', 'free sulfur dioxide', 'total sulfur dioxide', 'density',\n",
        "       'pH', 'sulphates', 'alcohol']\n",
        "\n",
        "# Sort the feature scores in descending order\n",
        "sorted_indices = feature_scores.argsort()[::-1]\n",
        "\n",
        "# Get the sorted feature scores and names\n",
        "sorted_scores = feature_scores[sorted_indices]\n",
        "sorted_feature_names = [feature_names[i] for i in sorted_indices]\n",
        "\n",
        "# Plot the feature importances\n",
        "plt.figure(figsize=(12, 6))\n",
        "plt.bar(range(len(sorted_feature_names)), sorted_scores)\n",
        "plt.xticks(range(len(sorted_feature_names)), sorted_feature_names, rotation=90)\n",
        "plt.xlabel('Features')\n",
        "plt.ylabel('Information Gain')\n",
        "plt.title('Feature Importance (Information Gain)')\n",
        "plt.show()"
      ]
    },
    {
      "cell_type": "markdown",
      "metadata": {
        "id": "xpFKoyjFSJt8"
      },
      "source": [
        "# ZSCORE"
      ]
    },
    {
      "cell_type": "markdown",
      "metadata": {
        "id": "ccHCndCUSPZE"
      },
      "source": [
        "ZSCORE RANDOM FOREST"
      ]
    },
    {
      "cell_type": "code",
      "execution_count": 90,
      "metadata": {
        "colab": {
          "base_uri": "https://localhost:8080/"
        },
        "id": "jOyYKcdIR_Xk",
        "outputId": "82b0c324-183f-46b0-fa0a-cb6bc7d998cb"
      },
      "outputs": [
        {
          "name": "stdout",
          "output_type": "stream",
          "text": [
            "Best Parameters: {'max_depth': 30, 'min_samples_leaf': 1, 'min_samples_split': 2, 'n_estimators': 200}\n"
          ]
        }
      ],
      "source": [
        "# Define the parameter grid for Random Forest\n",
        "param_grid = {\n",
        "    'n_estimators': [100, 200, 300],  # You can adjust the number of trees\n",
        "    'max_depth': [None, 10, 20, 30],  # You can adjust the maximum depth of each tree\n",
        "    'min_samples_split': [2, 5, 10],\n",
        "    'min_samples_leaf': [1, 2, 4]\n",
        "}\n",
        "\n",
        "# Create a Random Forest model\n",
        "random_forest = RandomForestClassifier()\n",
        "\n",
        "# Create GridSearchCV for Random Forest\n",
        "grid_search = GridSearchCV(estimator=random_forest, param_grid=param_grid, cv=5, scoring='accuracy')\n",
        "grid_search.fit(selected_ft_zscore_training, target_train)\n",
        "\n",
        "# Display the best parameters\n",
        "print(\"Best Parameters:\", grid_search.best_params_)\n",
        "\n",
        "# Use the best parameters to create the Random Forest model\n",
        "best_n_estimators = grid_search.best_params_['n_estimators']\n",
        "best_max_depth = grid_search.best_params_['max_depth']\n",
        "best_min_samples_split = grid_search.best_params_['min_samples_split']\n",
        "best_min_samples_leaf = grid_search.best_params_['min_samples_leaf']\n"
      ]
    },
    {
      "cell_type": "code",
      "execution_count": 91,
      "metadata": {
        "colab": {
          "base_uri": "https://localhost:8080/"
        },
        "id": "TiUi4t-RoeXp",
        "outputId": "04711feb-dab8-466f-fdc5-e12d8a0268f5"
      },
      "outputs": [
        {
          "data": {
            "text/plain": [
              "['model_rf_zscore.pkl']"
            ]
          },
          "execution_count": 91,
          "metadata": {},
          "output_type": "execute_result"
        }
      ],
      "source": [
        "model_rf_zscore = RandomForestClassifier( max_depth= best_max_depth,min_samples_leaf= best_min_samples_leaf,min_samples_split= best_min_samples_split, n_estimators= best_n_estimators)\n",
        "joblib.dump(model_rf_zscore, 'model_rf_zscore.pkl')"
      ]
    },
    {
      "cell_type": "markdown",
      "metadata": {
        "id": "KNarjj1VpW9w"
      },
      "source": [
        "Mencari k terbaik melalui model terbaik >>>>"
      ]
    },
    {
      "cell_type": "code",
      "execution_count": 92,
      "metadata": {
        "colab": {
          "base_uri": "https://localhost:8080/"
        },
        "id": "q9adwUx-pU-n",
        "outputId": "a94b12d7-7409-4f22-a8fa-8b8aa5f987cd"
      },
      "outputs": [
        {
          "name": "stdout",
          "output_type": "stream",
          "text": [
            "Random Forest Zscore:\n",
            "Banyak fitur 5 dengan akurasi :  0.9712\n",
            "Fitur terbaik yang digunakan (dengan normalisasi Zscore):\n",
            "['volatile acidity', 'citric acid', 'density', 'sulphates', 'alcohol']\n"
          ]
        }
      ],
      "source": [
        "best_accuracy_rf_zscore = 0\n",
        "best_k_zscore_rf = 0\n",
        "for k in range(1, fitur_train.shape[1] + 1):\n",
        "    # Buat objek SelectKBest dengan mutual_info_classif sebagai fungsi skor\n",
        "    k_best = SelectKBest(score_func=mutual_info_classif, k=k)\n",
        "    selected_ft_zscore_training = k_best.fit_transform(zscore_training, target_train)\n",
        "    selected_ft_zscore_testing = k_best.transform(zscore_testing)\n",
        "    model_rf_zscore = RandomForestClassifier( max_depth= best_max_depth,min_samples_leaf= best_min_samples_leaf,min_samples_split= best_min_samples_split, n_estimators= best_n_estimators)\n",
        "    model_rf_zscore.fit(selected_ft_zscore_training, target_train)\n",
        "\n",
        "    # Lakukan prediksi pada data uji dengan normalisasi zscore\n",
        "    y_pred_zscore = model_rf_zscore.predict(selected_ft_zscore_testing)\n",
        "\n",
        "    # Hitung akurasi dengan normalisasi zscore\n",
        "    accuracy_rf_zscore = accuracy_score(target_test, y_pred_zscore)\n",
        "    if accuracy_rf_zscore > best_accuracy_rf_zscore:\n",
        "        best_accuracy_rf_zscore = accuracy_rf_zscore\n",
        "        best_k_zscore_rf = k\n",
        "print(\"Random Forest Zscore:\")\n",
        "print(\"Banyak fitur\", best_k_zscore_rf, \"dengan akurasi : \", best_accuracy_rf_zscore)\n",
        "best_feature_indices_zscore = SelectKBest(score_func=mutual_info_classif, k=best_k_zscore_rf).fit(selected_ft_zscore_training, target_train).get_support(indices=True)\n",
        "best_features_zscore = [fitur.columns[i] for i in best_feature_indices_zscore]\n",
        "\n",
        "print(\"Fitur terbaik yang digunakan (dengan normalisasi Zscore):\")\n",
        "print(best_features_zscore)\n"
      ]
    },
    {
      "cell_type": "markdown",
      "metadata": {
        "id": "9vnn4ezJTqJx"
      },
      "source": [
        "ZSCORE LOGISTIC REGRESSION"
      ]
    },
    {
      "cell_type": "code",
      "execution_count": 93,
      "metadata": {
        "colab": {
          "base_uri": "https://localhost:8080/"
        },
        "id": "_fDdont8Tukh",
        "outputId": "69280f79-fc7c-4454-b759-a3e3c138a2fa"
      },
      "outputs": [
        {
          "name": "stdout",
          "output_type": "stream",
          "text": [
            "Best Parameters: {'C': 1, 'penalty': 'l2'}\n"
          ]
        }
      ],
      "source": [
        "  # Define the parameter grid for Logistic Regression\n",
        "param_grid = {\n",
        "    'C': [0.001, 0.01, 0.1, 1, 10, 100],  # You can adjust the regularization parameter\n",
        "    'penalty': ['l1', 'l2'],  # You can choose the type of penalty (L1 or L2)\n",
        "}\n",
        "\n",
        "# Create a Logistic Regression model\n",
        "logistic_regression = LogisticRegression(solver='liblinear')\n",
        "\n",
        "# Create GridSearchCV for Logistic Regression\n",
        "grid_search = GridSearchCV(estimator=logistic_regression, param_grid=param_grid, cv=5, scoring='accuracy')\n",
        "grid_search.fit(selected_ft_zscore_training, target_train)\n",
        "\n",
        "# Display the best parameters\n",
        "print(\"Best Parameters:\", grid_search.best_params_)\n",
        "\n",
        "# Use the best parameters to create the Logistic Regression model\n",
        "best_C = grid_search.best_params_['C']\n",
        "best_penalty = grid_search.best_params_['penalty']"
      ]
    },
    {
      "cell_type": "code",
      "execution_count": 94,
      "metadata": {
        "colab": {
          "base_uri": "https://localhost:8080/"
        },
        "id": "Y6hjh6JbpZxx",
        "outputId": "98464cb6-9bb6-4c80-c693-62cd1f74359d"
      },
      "outputs": [
        {
          "data": {
            "text/plain": [
              "['model_lr_zscore.pkl']"
            ]
          },
          "execution_count": 94,
          "metadata": {},
          "output_type": "execute_result"
        }
      ],
      "source": [
        "model_lr_zscore = LogisticRegression(C=best_C,penalty=best_penalty,solver='liblinear')\n",
        "joblib.dump(model_lr_zscore, 'model_lr_zscore.pkl')"
      ]
    },
    {
      "cell_type": "markdown",
      "metadata": {
        "id": "H4QvHJaVpVCL"
      },
      "source": [
        "Mencari k terbaik melalui model terbaik >>>>"
      ]
    },
    {
      "cell_type": "code",
      "execution_count": 95,
      "metadata": {
        "colab": {
          "base_uri": "https://localhost:8080/"
        },
        "id": "l3WNRnWpsyou",
        "outputId": "7c9a631c-05d1-4692-9610-ba4d2c3bc8c3"
      },
      "outputs": [
        {
          "name": "stdout",
          "output_type": "stream",
          "text": [
            "Logistic Regression Zscore:\n",
            "Fitur terbaik yang bisa digunakan 11 dengan akurasi :  0.8\n",
            "Fitur terbaik yang digunakan (dengan normalisasi Zscore):\n",
            "['fixed acidity', 'volatile acidity', 'citric acid', 'residual sugar', 'chlorides', 'free sulfur dioxide', 'total sulfur dioxide', 'density', 'pH', 'sulphates', 'alcohol']\n"
          ]
        }
      ],
      "source": [
        "best_accuracy_lr_zscore = 0\n",
        "best_k_zscore_lr = 0\n",
        "for k in range(1, fitur_train.shape[1] + 1):\n",
        "    # Buat objek SelectKBest dengan mutual_info_classif sebagai fungsi skor\n",
        "    k_best = SelectKBest(score_func=mutual_info_classif, k=k)\n",
        "    selected_ft_zscore_training = k_best.fit_transform(zscore_training, target_train)\n",
        "    selected_ft_zscore_testing = k_best.transform(zscore_testing)\n",
        "    model_zscore = LogisticRegression(\n",
        "    C=best_C,\n",
        "    penalty=best_penalty,\n",
        "    solver='liblinear'\n",
        "  )\n",
        "    model_zscore.fit(selected_ft_zscore_training, target_train)\n",
        "\n",
        "    # Lakukan prediksi pada data uji dengan normalisasi zscore\n",
        "    y_pred_zscore = model_zscore.predict(selected_ft_zscore_testing)\n",
        "\n",
        "    # Hitung akurasi dengan normalisasi zscore\n",
        "    accuracy_lr_zscore = accuracy_score(target_test, y_pred_zscore)\n",
        "    if accuracy_lr_zscore > best_accuracy_lr_zscore:\n",
        "        best_accuracy_lr_zscore = accuracy_lr_zscore\n",
        "        best_k_zscore_lr = k\n",
        "print(\"Logistic Regression Zscore:\")\n",
        "print(\"Fitur terbaik yang bisa digunakan\", best_k_zscore_lr, \"dengan akurasi : \", best_accuracy_lr_zscore)\n",
        "best_feature_indices_zscore = SelectKBest(score_func=mutual_info_classif, k=best_k_zscore_lr).fit(selected_ft_zscore_training, target_train).get_support(indices=True)\n",
        "best_features_zscore = [fitur.columns[i] for i in best_feature_indices_zscore]\n",
        "\n",
        "print(\"Fitur terbaik yang digunakan (dengan normalisasi Zscore):\")\n",
        "print(best_features_zscore)\n"
      ]
    },
    {
      "cell_type": "markdown",
      "metadata": {
        "id": "VzsEFOKuo-G9"
      },
      "source": [
        "ZSCORE DECISION TREE"
      ]
    },
    {
      "cell_type": "code",
      "execution_count": 96,
      "metadata": {
        "colab": {
          "base_uri": "https://localhost:8080/"
        },
        "id": "Znod1bFOpE9b",
        "outputId": "86071670-f985-4bdb-defe-15be07ccecbd"
      },
      "outputs": [
        {
          "name": "stdout",
          "output_type": "stream",
          "text": [
            "Best Parameters: {'criterion': 'entropy', 'max_depth': 50, 'splitter': 'random'}\n"
          ]
        }
      ],
      "source": [
        "# Define the parameter grid for Decision Tree\n",
        "param_grid = {\n",
        "    'criterion': ['gini', 'entropy'],\n",
        "    'splitter': ['best', 'random'],\n",
        "    'max_depth': [None, 10, 20, 30, 40, 50],\n",
        "}\n",
        "\n",
        "# Create a Decision Tree model\n",
        "dt_classifier = DecisionTreeClassifier()\n",
        "\n",
        "# Create GridSearchCV for Decision Tree\n",
        "grid_search = GridSearchCV(estimator=dt_classifier, param_grid=param_grid, cv=5, scoring='accuracy')\n",
        "grid_search.fit(selected_ft_zscore_training, target_train)\n",
        "\n",
        "# Display the best parameters\n",
        "print(\"Best Parameters:\", grid_search.best_params_)\n",
        "\n",
        "# Use the best parameters to create the Decision Tree model\n",
        "best_criterion = grid_search.best_params_['criterion']\n",
        "best_splitter = grid_search.best_params_['splitter']\n",
        "best_max_depth = grid_search.best_params_['max_depth']\n"
      ]
    },
    {
      "cell_type": "code",
      "execution_count": 97,
      "metadata": {
        "colab": {
          "base_uri": "https://localhost:8080/"
        },
        "id": "I7uRNAxrpsN0",
        "outputId": "9f767eab-42b7-42ff-db60-279ea9281355"
      },
      "outputs": [
        {
          "data": {
            "text/plain": [
              "['model_dt_zscore.pkl']"
            ]
          },
          "execution_count": 97,
          "metadata": {},
          "output_type": "execute_result"
        }
      ],
      "source": [
        "model_dt_zscore = DecisionTreeClassifier(criterion=best_criterion,splitter=best_splitter,max_depth=best_max_depth)\n",
        "joblib.dump(model_dt_zscore, 'model_dt_zscore.pkl')"
      ]
    },
    {
      "cell_type": "markdown",
      "metadata": {
        "id": "QuDnlvALpi_v"
      },
      "source": [
        "Mencari k terbaik melalui model terbaik >>>>"
      ]
    },
    {
      "cell_type": "code",
      "execution_count": 98,
      "metadata": {
        "colab": {
          "base_uri": "https://localhost:8080/"
        },
        "id": "ola3NfjYppBx",
        "outputId": "a7c590a8-c4bf-40fa-d945-ea31d3308386"
      },
      "outputs": [
        {
          "name": "stdout",
          "output_type": "stream",
          "text": [
            "Decision Tree Zscore:\n",
            "Banyak fitur 8 dengan akurasi :  0.968\n",
            "Fitur terbaik yang digunakan (dengan normalisasi Zscore):\n",
            "['fixed acidity', 'volatile acidity', 'citric acid', 'chlorides', 'total sulfur dioxide', 'density', 'sulphates', 'alcohol']\n"
          ]
        }
      ],
      "source": [
        "best_accuracy_dt_zscore = 0\n",
        "best_k_zscore_dt = 0\n",
        "for k in range(1, fitur_train.shape[1] + 1):\n",
        "    # Buat objek SelectKBest dengan mutual_info_classif sebagai fungsi skor\n",
        "    k_best = SelectKBest(score_func=mutual_info_classif, k=k)\n",
        "    selected_ft_zscore_training = k_best.fit_transform(zscore_training, target_train)\n",
        "    selected_ft_zscore_testing = k_best.transform(zscore_testing)\n",
        "    model_zscore = DecisionTreeClassifier(\n",
        "    criterion=best_criterion,\n",
        "    splitter=best_splitter,\n",
        "    max_depth=best_max_depth\n",
        "    )\n",
        "    model_zscore.fit(selected_ft_zscore_training, target_train)\n",
        "\n",
        "    # Lakukan prediksi pada data uji dengan normalisasi zscore\n",
        "    y_pred_zscore = model_zscore.predict(selected_ft_zscore_testing)\n",
        "\n",
        "    # Hitung akurasi dengan normalisasi zscore\n",
        "    accuracy_dt_zscore = accuracy_score(target_test, y_pred_zscore)\n",
        "    if accuracy_dt_zscore > best_accuracy_dt_zscore:\n",
        "        best_accuracy_dt_zscore = accuracy_dt_zscore\n",
        "        best_k_zscore_dt = k\n",
        "print(\"Decision Tree Zscore:\")\n",
        "print(\"Banyak fitur\", best_k_zscore_dt, \"dengan akurasi : \", best_accuracy_dt_zscore)\n",
        "best_feature_indices_zscore = SelectKBest(score_func=mutual_info_classif, k=best_k_zscore_dt).fit(selected_ft_zscore_training, target_train).get_support(indices=True)\n",
        "best_features_zscore = [fitur.columns[i] for i in best_feature_indices_zscore]\n",
        "\n",
        "print(\"Fitur terbaik yang digunakan (dengan normalisasi Zscore):\")\n",
        "print(best_features_zscore)\n"
      ]
    },
    {
      "cell_type": "markdown",
      "metadata": {
        "id": "QdA6HLVxUD2w"
      },
      "source": [
        "# MINMAX"
      ]
    },
    {
      "cell_type": "markdown",
      "metadata": {
        "id": "SHCsqkAnUHHA"
      },
      "source": [
        "MINMAX RANDOM FOREST"
      ]
    },
    {
      "cell_type": "code",
      "execution_count": 99,
      "metadata": {
        "colab": {
          "base_uri": "https://localhost:8080/"
        },
        "id": "58YzhpKzUGow",
        "outputId": "0537b260-211a-496f-c569-a017c7ef18f7"
      },
      "outputs": [
        {
          "name": "stdout",
          "output_type": "stream",
          "text": [
            "Best Parameters: {'max_depth': 30, 'min_samples_leaf': 1, 'min_samples_split': 2, 'n_estimators': 200}\n"
          ]
        }
      ],
      "source": [
        "# Define the parameter grid for Random Forest\n",
        "param_grid = {\n",
        "    'n_estimators': [100, 200, 300],  # You can adjust the number of trees\n",
        "    'max_depth': [None, 10, 20, 30],  # You can adjust the maximum depth of each tree\n",
        "    'min_samples_split': [2, 5, 10],\n",
        "    'min_samples_leaf': [1, 2, 4]\n",
        "}\n",
        "\n",
        "# Create a Random Forest model\n",
        "random_forest = RandomForestClassifier()\n",
        "\n",
        "# Create GridSearchCV for Random Forest\n",
        "grid_search = GridSearchCV(estimator=random_forest, param_grid=param_grid, cv=5, scoring='accuracy')\n",
        "grid_search.fit(selected_ft_minmax_training, target_train)\n",
        "\n",
        "# Display the best parameters\n",
        "print(\"Best Parameters:\", grid_search.best_params_)\n",
        "\n",
        "\n",
        "# Use the best parameters to create the Random Forest model\n",
        "best_n_estimators = grid_search.best_params_['n_estimators']\n",
        "best_max_depth = grid_search.best_params_['max_depth']\n",
        "best_min_samples_split = grid_search.best_params_['min_samples_split']\n",
        "best_min_samples_leaf = grid_search.best_params_['min_samples_leaf']\n",
        "\n"
      ]
    },
    {
      "cell_type": "code",
      "execution_count": 100,
      "metadata": {
        "colab": {
          "base_uri": "https://localhost:8080/"
        },
        "id": "mCyo6D0bqCc9",
        "outputId": "370de9ae-8679-44bb-af46-09843e35595e"
      },
      "outputs": [
        {
          "data": {
            "text/plain": [
              "['model_rf_minmax.pkl']"
            ]
          },
          "execution_count": 100,
          "metadata": {},
          "output_type": "execute_result"
        }
      ],
      "source": [
        "model_rf_minmax = RandomForestClassifier( max_depth= best_max_depth,min_samples_leaf= best_min_samples_leaf,min_samples_split= best_min_samples_split, n_estimators= best_n_estimators)\n",
        "joblib.dump(model_rf_minmax, 'model_rf_minmax.pkl')"
      ]
    },
    {
      "cell_type": "markdown",
      "metadata": {
        "id": "KGpSAnxnvNtd"
      },
      "source": [
        "mencari k terbaik dari model klasifikasi terbaik >>>>>>"
      ]
    },
    {
      "cell_type": "code",
      "execution_count": 101,
      "metadata": {
        "colab": {
          "base_uri": "https://localhost:8080/"
        },
        "id": "Lo0W67m0vSaa",
        "outputId": "158f2ddc-614c-455e-e609-297b419429e6"
      },
      "outputs": [
        {
          "name": "stdout",
          "output_type": "stream",
          "text": [
            "Random Forest Minmax:\n",
            "Banyak fitur 11 dengan akurasi :  0.9728\n",
            "Fitur terbaik yang digunakan (dengan normalisasi Minmax):\n",
            "['fixed acidity', 'volatile acidity', 'citric acid', 'residual sugar', 'chlorides', 'free sulfur dioxide', 'total sulfur dioxide', 'density', 'pH', 'sulphates', 'alcohol']\n"
          ]
        }
      ],
      "source": [
        "best_accuracy_rf_minmax = 0\n",
        "best_k_minmax_rf = 0\n",
        "for k in range(1, fitur_train.shape[1] + 1):\n",
        "    # Buat objek SelectKBest dengan mutual_info_classif sebagai fungsi skor\n",
        "    k_best = SelectKBest(score_func=mutual_info_classif, k=k)\n",
        "    selected_ft_minmax_training = k_best.fit_transform(minmax_training, target_train)\n",
        "    selected_ft_minmax_testing = k_best.transform(minmax_testing)\n",
        "    model_minmax = RandomForestClassifier(max_depth= best_max_depth,\n",
        "                                          min_samples_leaf= best_min_samples_leaf,\n",
        "                                          min_samples_split= best_min_samples_split, n_estimators= best_n_estimators)\n",
        "    model_minmax.fit(selected_ft_minmax_training, target_train)\n",
        "\n",
        "    # Lakukan prediksi pada data uji dengan normalisasi minmax\n",
        "    y_pred_minmax = model_minmax.predict(selected_ft_minmax_testing)\n",
        "\n",
        "    # Hitung akurasi dengan normalisasi minmax\n",
        "    accuracy_rf_minmax = accuracy_score(target_test, y_pred_minmax)\n",
        "    if accuracy_rf_minmax > best_accuracy_rf_minmax:\n",
        "        best_accuracy_rf_minmax = accuracy_rf_minmax\n",
        "        best_k_minmax_rf = k\n",
        "print(\"Random Forest Minmax:\")\n",
        "print(\"Banyak fitur\", best_k_minmax_rf, \"dengan akurasi : \", best_accuracy_rf_minmax)\n",
        "best_feature_indices_minmax = SelectKBest(score_func=mutual_info_classif, k=best_k_minmax_rf).fit(selected_ft_minmax_training, target_train).get_support(indices=True)\n",
        "best_features_minmax = [fitur.columns[i] for i in best_feature_indices_minmax]\n",
        "\n",
        "print(\"Fitur terbaik yang digunakan (dengan normalisasi Minmax):\")\n",
        "print(best_features_minmax)\n"
      ]
    },
    {
      "cell_type": "markdown",
      "metadata": {
        "id": "FAvWVAj3Uj_C"
      },
      "source": [
        "MINMAX LOGISTIC REGRESSION"
      ]
    },
    {
      "cell_type": "code",
      "execution_count": 102,
      "metadata": {
        "colab": {
          "base_uri": "https://localhost:8080/"
        },
        "id": "EojrL1jVU9TR",
        "outputId": "873d6208-3b1c-4ba2-8463-7f4741c0fbec"
      },
      "outputs": [
        {
          "name": "stdout",
          "output_type": "stream",
          "text": [
            "Best Parameters: {'C': 10, 'penalty': 'l1'}\n"
          ]
        }
      ],
      "source": [
        "# Define the parameter grid for Logistic Regression\n",
        "param_grid = {\n",
        "    'C': [0.001, 0.01, 0.1, 1, 10, 100],  # You can adjust the regularization parameter\n",
        "    'penalty': ['l1', 'l2'],  # You can choose the type of penalty (L1 or L2)\n",
        "}\n",
        "\n",
        "# Create a Logistic Regression model\n",
        "logistic_regression = LogisticRegression(solver='liblinear')\n",
        "\n",
        "# Create GridSearchCV for Logistic Regression\n",
        "grid_search = GridSearchCV(estimator=logistic_regression, param_grid=param_grid, cv=5, scoring='accuracy')\n",
        "grid_search.fit(selected_ft_minmax_training, target_train)\n",
        "\n",
        "# Display the best parameters\n",
        "print(\"Best Parameters:\", grid_search.best_params_)\n",
        "\n",
        "# Use the best parameters to create the Logistic Regression model\n",
        "best_C = grid_search.best_params_['C']\n",
        "best_penalty = grid_search.best_params_['penalty']\n"
      ]
    },
    {
      "cell_type": "code",
      "execution_count": 103,
      "metadata": {
        "colab": {
          "base_uri": "https://localhost:8080/"
        },
        "id": "fliObYvMqMhD",
        "outputId": "28b94720-a5e7-4860-f7b4-f71754dd8235"
      },
      "outputs": [
        {
          "data": {
            "text/plain": [
              "['model_lr_minmax.pkl']"
            ]
          },
          "execution_count": 103,
          "metadata": {},
          "output_type": "execute_result"
        }
      ],
      "source": [
        "model_lr_minmax = LogisticRegression(C=best_C,penalty=best_penalty,solver='liblinear')\n",
        "joblib.dump(model_lr_minmax, 'model_lr_minmax.pkl')"
      ]
    },
    {
      "cell_type": "markdown",
      "metadata": {
        "id": "r-fZNO-dpb_c"
      },
      "source": [
        "Mencari k terbaik melalui model terbaik >>>>"
      ]
    },
    {
      "cell_type": "code",
      "execution_count": 104,
      "metadata": {
        "colab": {
          "base_uri": "https://localhost:8080/"
        },
        "id": "GUASaIXwz8lD",
        "outputId": "af94f67d-f47d-489f-baa5-a189361f11bc"
      },
      "outputs": [
        {
          "name": "stdout",
          "output_type": "stream",
          "text": [
            "Logistic Regression Minmax:\n",
            "Banyak fitur 6 dengan akurasi :  0.8\n",
            "Fitur terbaik yang digunakan (dengan normalisasi minmax):\n",
            "['volatile acidity', 'citric acid', 'total sulfur dioxide', 'density', 'sulphates', 'alcohol']\n"
          ]
        }
      ],
      "source": [
        "best_accuracy_lr_minmax = 0\n",
        "best_k_minmax_lr = 0\n",
        "for k in range(1, fitur_train.shape[1] + 1):\n",
        "    # Buat objek SelectKBest dengan mutual_info_classif sebagai fungsi skor\n",
        "    k_best = SelectKBest(score_func=mutual_info_classif, k=k)\n",
        "    selected_ft_minmax_training = k_best.fit_transform(minmax_training, target_train)\n",
        "    selected_ft_minmax_testing = k_best.transform(minmax_testing)\n",
        "    model_minmax = LogisticRegression(\n",
        "    C=best_C,\n",
        "    penalty=best_penalty,\n",
        "    solver='liblinear'\n",
        "    )\n",
        "    model_minmax.fit(selected_ft_minmax_training, target_train)\n",
        "\n",
        "    # Lakukan prediksi pada data uji dengan normalisasi Minmax\n",
        "    y_pred_minmax = model_minmax.predict(selected_ft_minmax_testing)\n",
        "\n",
        "    # Hitung akurasi dengan normalisasi Minmax\n",
        "    accuracy_lr_minmax = accuracy_score(target_test, y_pred_minmax)\n",
        "    if accuracy_lr_minmax > best_accuracy_lr_minmax:\n",
        "        best_accuracy_lr_minmax = accuracy_lr_minmax\n",
        "        best_k_minmax_lr = k\n",
        "print(\"Logistic Regression Minmax:\")\n",
        "print(\"Banyak fitur\", best_k_minmax_lr, \"dengan akurasi : \", best_accuracy_lr_minmax)\n",
        "best_feature_indices_minmax = SelectKBest(score_func=mutual_info_classif, k=best_k_minmax_lr).fit(selected_ft_minmax_training, target_train).get_support(indices=True)\n",
        "best_features_minmax = [fitur.columns[i] for i in best_feature_indices_minmax]\n",
        "\n",
        "print(\"Fitur terbaik yang digunakan (dengan normalisasi minmax):\")\n",
        "print(best_features_minmax)\n"
      ]
    },
    {
      "cell_type": "markdown",
      "metadata": {
        "id": "C143OQ-upwRB"
      },
      "source": [
        "MINMAX DECISION TREE"
      ]
    },
    {
      "cell_type": "code",
      "execution_count": 105,
      "metadata": {
        "colab": {
          "base_uri": "https://localhost:8080/"
        },
        "id": "CqFtz7FBqa9H",
        "outputId": "e97105dc-2d62-4748-cc57-c8701581ab1d"
      },
      "outputs": [
        {
          "name": "stdout",
          "output_type": "stream",
          "text": [
            "Best Parameters: {'criterion': 'entropy', 'max_depth': 20, 'splitter': 'best'}\n"
          ]
        }
      ],
      "source": [
        "\n",
        "# Define the parameter grid for Decision Tree\n",
        "param_grid = {\n",
        "    'criterion': ['gini', 'entropy'],\n",
        "    'splitter': ['best', 'random'],\n",
        "    'max_depth': [None, 10, 20, 30, 40, 50],\n",
        "}\n",
        "\n",
        "# Create a Decision Tree model\n",
        "dt_classifier = DecisionTreeClassifier()\n",
        "\n",
        "# Create GridSearchCV for Decision Tree\n",
        "grid_search = GridSearchCV(estimator=dt_classifier, param_grid=param_grid, cv=5, scoring='accuracy')\n",
        "grid_search.fit(selected_ft_minmax_training, target_train)\n",
        "\n",
        "# Display the best parameters\n",
        "print(\"Best Parameters:\", grid_search.best_params_)\n",
        "\n",
        "# Use the best parameters to create the Decision Tree model\n",
        "best_criterion = grid_search.best_params_['criterion']\n",
        "best_splitter = grid_search.best_params_['splitter']\n",
        "best_max_depth = grid_search.best_params_['max_depth']\n"
      ]
    },
    {
      "cell_type": "code",
      "execution_count": 106,
      "metadata": {
        "colab": {
          "base_uri": "https://localhost:8080/"
        },
        "id": "mERpCPFAqVLL",
        "outputId": "9395149f-4aee-41e5-84f2-8c3df1e593cb"
      },
      "outputs": [
        {
          "data": {
            "text/plain": [
              "['model_dt_minmax.pkl']"
            ]
          },
          "execution_count": 106,
          "metadata": {},
          "output_type": "execute_result"
        }
      ],
      "source": [
        "model_dt_minmax = DecisionTreeClassifier(criterion=best_criterion,splitter=best_splitter,max_depth=best_max_depth)\n",
        "joblib.dump(model_dt_minmax, 'model_dt_minmax.pkl')"
      ]
    },
    {
      "cell_type": "code",
      "execution_count": 107,
      "metadata": {
        "colab": {
          "base_uri": "https://localhost:8080/"
        },
        "id": "CqHErccbqJcd",
        "outputId": "7f8386ac-0fcd-43ef-c69d-bf234b9e3443"
      },
      "outputs": [
        {
          "name": "stdout",
          "output_type": "stream",
          "text": [
            "Decision Tree Minmax:\n",
            "Banyak fitur 9 dengan akurasi :  0.9664\n",
            "Fitur terbaik yang digunakan (dengan normalisasi Minmax):\n",
            "['fixed acidity', 'volatile acidity', 'citric acid', 'chlorides', 'total sulfur dioxide', 'density', 'pH', 'sulphates', 'alcohol']\n"
          ]
        }
      ],
      "source": [
        "best_accuracy_dt_minmax = 0\n",
        "best_k_minmax_dt = 0\n",
        "for k in range(1, fitur_train.shape[1] + 1):\n",
        "    # Buat objek SelectKBest dengan mutual_info_classif sebagai fungsi skor\n",
        "    k_best = SelectKBest(score_func=mutual_info_classif, k=k)\n",
        "    selected_ft_minmax_training = k_best.fit_transform(minmax_training, target_train)\n",
        "    selected_ft_minmax_testing = k_best.transform(minmax_testing)\n",
        "    model_minmax = DecisionTreeClassifier(\n",
        "    criterion=best_criterion,\n",
        "    splitter=best_splitter,\n",
        "    max_depth=best_max_depth\n",
        "    )\n",
        "    model_minmax.fit(selected_ft_minmax_training, target_train)\n",
        "\n",
        "    # Lakukan prediksi pada data uji dengan normalisasi minmax\n",
        "    y_pred_minmax = model_minmax.predict(selected_ft_minmax_testing)\n",
        "\n",
        "    # Hitung akurasi dengan normalisasi minmax\n",
        "    accuracy_dt_minmax = accuracy_score(target_test, y_pred_minmax)\n",
        "    if accuracy_dt_minmax > best_accuracy_dt_minmax:\n",
        "        best_accuracy_dt_minmax = accuracy_dt_minmax\n",
        "        best_k_minmax_dt = k\n",
        "print(\"Decision Tree Minmax:\")\n",
        "print(\"Banyak fitur\", best_k_minmax_dt, \"dengan akurasi : \", best_accuracy_dt_minmax)\n",
        "best_feature_indices_minmax = SelectKBest(score_func=mutual_info_classif, k=best_k_minmax_dt).fit(selected_ft_minmax_training, target_train).get_support(indices=True)\n",
        "best_features_minmax = [fitur.columns[i] for i in best_feature_indices_minmax]\n",
        "\n",
        "print(\"Fitur terbaik yang digunakan (dengan normalisasi Minmax):\")\n",
        "print(best_features_minmax)\n"
      ]
    },
    {
      "cell_type": "markdown",
      "metadata": {
        "id": "T_rYn9LEVQCn"
      },
      "source": [
        "# PERBANDINGAN"
      ]
    },
    {
      "cell_type": "code",
      "execution_count": 108,
      "metadata": {
        "colab": {
          "base_uri": "https://localhost:8080/"
        },
        "id": "zh6DsJktVPWS",
        "outputId": "2dca2cc1-dc1c-4723-b24e-7236e869f02c"
      },
      "outputs": [
        {
          "name": "stdout",
          "output_type": "stream",
          "text": [
            "                       Metode  Akurasi  Banyak Fitur Yang digunakan\n",
            "0        ZSCORE Random Forest   0.9712                            5\n",
            "1  ZSCORE Logistic Regression   0.8000                           11\n",
            "2        ZSCORE Decision Tree   0.9680                            8\n",
            "3        MINMAX Random Forest   0.9728                           11\n",
            "4  MINMAX Logistic Regression   0.8000                            6\n",
            "5        MINMAX Decision Tree   0.9664                            9\n"
          ]
        }
      ],
      "source": [
        "import pandas as pd\n",
        "\n",
        "methods = [\"ZSCORE Random Forest\", \"ZSCORE Logistic Regression\",\"ZSCORE Decision Tree\", \"MINMAX Random Forest\", \"MINMAX Logistic Regression\",\"MINMAX Decision Tree\"]\n",
        "accuracies = [best_accuracy_rf_zscore, best_accuracy_lr_zscore,best_accuracy_dt_zscore,best_accuracy_rf_minmax, best_accuracy_lr_minmax,best_accuracy_dt_minmax]\n",
        "k_values = [best_k_zscore_rf, best_k_zscore_lr,best_k_zscore_dt,best_k_minmax_rf, best_k_minmax_lr,best_k_minmax_dt]\n",
        "\n",
        "\n",
        "results_df = pd.DataFrame({'Metode': methods, 'Akurasi': accuracies, 'Banyak Fitur Yang digunakan': k_values})\n",
        "\n",
        "print(results_df)\n"
      ]
    }
  ],
  "metadata": {
    "colab": {
      "provenance": []
    },
    "kernelspec": {
      "display_name": "Python 3",
      "name": "python3"
    },
    "language_info": {
      "codemirror_mode": {
        "name": "ipython",
        "version": 3
      },
      "file_extension": ".py",
      "mimetype": "text/x-python",
      "name": "python",
      "nbconvert_exporter": "python",
      "pygments_lexer": "ipython3",
      "version": "3.12.0"
    }
  },
  "nbformat": 4,
  "nbformat_minor": 0
}
